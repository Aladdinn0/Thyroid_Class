{
 "cells": [
  {
   "cell_type": "markdown",
   "id": "4bc736e5-63ba-4593-9625-691fc2888253",
   "metadata": {},
   "source": [
    "# Thyroid Classification"
   ]
  },
  {
   "cell_type": "code",
   "execution_count": 3,
   "id": "d3c910cd-080d-4e9c-a7f5-3693ef2858b1",
   "metadata": {},
   "outputs": [],
   "source": [
    "import numpy as np\n",
    "import pandas as pd\n",
    "import matplotlib.pyplot as plt\n",
    "import seaborn as sns"
   ]
  },
  {
   "cell_type": "code",
   "execution_count": 4,
   "id": "3d5fb2cc-8ac6-41ed-a254-c67eba640464",
   "metadata": {},
   "outputs": [],
   "source": [
    "df = pd.read_csv('/home/aladdin/Desktop/zips/thyroid.csv')"
   ]
  },
  {
   "cell_type": "code",
   "execution_count": 5,
   "id": "8b7c9ce6-b362-4035-9e0b-2b96b44f7dcb",
   "metadata": {},
   "outputs": [
    {
     "data": {
      "text/html": [
       "<div>\n",
       "<style scoped>\n",
       "    .dataframe tbody tr th:only-of-type {\n",
       "        vertical-align: middle;\n",
       "    }\n",
       "\n",
       "    .dataframe tbody tr th {\n",
       "        vertical-align: top;\n",
       "    }\n",
       "\n",
       "    .dataframe thead th {\n",
       "        text-align: right;\n",
       "    }\n",
       "</style>\n",
       "<table border=\"1\" class=\"dataframe\">\n",
       "  <thead>\n",
       "    <tr style=\"text-align: right;\">\n",
       "      <th></th>\n",
       "      <th>age</th>\n",
       "      <th>sex</th>\n",
       "      <th>on_thyroxine</th>\n",
       "      <th>query_on_thyroxine</th>\n",
       "      <th>on_antithyroid_meds</th>\n",
       "      <th>sick</th>\n",
       "      <th>pregnant</th>\n",
       "      <th>thyroid_surgery</th>\n",
       "      <th>I131_treatment</th>\n",
       "      <th>query_hypothyroid</th>\n",
       "      <th>...</th>\n",
       "      <th>TT4</th>\n",
       "      <th>T4U_measured</th>\n",
       "      <th>T4U</th>\n",
       "      <th>FTI_measured</th>\n",
       "      <th>FTI</th>\n",
       "      <th>TBG_measured</th>\n",
       "      <th>TBG</th>\n",
       "      <th>referral_source</th>\n",
       "      <th>target</th>\n",
       "      <th>patient_id</th>\n",
       "    </tr>\n",
       "  </thead>\n",
       "  <tbody>\n",
       "    <tr>\n",
       "      <th>0</th>\n",
       "      <td>29</td>\n",
       "      <td>F</td>\n",
       "      <td>f</td>\n",
       "      <td>f</td>\n",
       "      <td>f</td>\n",
       "      <td>f</td>\n",
       "      <td>f</td>\n",
       "      <td>f</td>\n",
       "      <td>f</td>\n",
       "      <td>t</td>\n",
       "      <td>...</td>\n",
       "      <td>NaN</td>\n",
       "      <td>f</td>\n",
       "      <td>NaN</td>\n",
       "      <td>f</td>\n",
       "      <td>NaN</td>\n",
       "      <td>f</td>\n",
       "      <td>NaN</td>\n",
       "      <td>other</td>\n",
       "      <td>-</td>\n",
       "      <td>840801013</td>\n",
       "    </tr>\n",
       "    <tr>\n",
       "      <th>1</th>\n",
       "      <td>29</td>\n",
       "      <td>F</td>\n",
       "      <td>f</td>\n",
       "      <td>f</td>\n",
       "      <td>f</td>\n",
       "      <td>f</td>\n",
       "      <td>f</td>\n",
       "      <td>f</td>\n",
       "      <td>f</td>\n",
       "      <td>f</td>\n",
       "      <td>...</td>\n",
       "      <td>128.0</td>\n",
       "      <td>f</td>\n",
       "      <td>NaN</td>\n",
       "      <td>f</td>\n",
       "      <td>NaN</td>\n",
       "      <td>f</td>\n",
       "      <td>NaN</td>\n",
       "      <td>other</td>\n",
       "      <td>-</td>\n",
       "      <td>840801014</td>\n",
       "    </tr>\n",
       "    <tr>\n",
       "      <th>2</th>\n",
       "      <td>41</td>\n",
       "      <td>F</td>\n",
       "      <td>f</td>\n",
       "      <td>f</td>\n",
       "      <td>f</td>\n",
       "      <td>f</td>\n",
       "      <td>f</td>\n",
       "      <td>f</td>\n",
       "      <td>f</td>\n",
       "      <td>f</td>\n",
       "      <td>...</td>\n",
       "      <td>NaN</td>\n",
       "      <td>f</td>\n",
       "      <td>NaN</td>\n",
       "      <td>f</td>\n",
       "      <td>NaN</td>\n",
       "      <td>t</td>\n",
       "      <td>11.0</td>\n",
       "      <td>other</td>\n",
       "      <td>-</td>\n",
       "      <td>840801042</td>\n",
       "    </tr>\n",
       "    <tr>\n",
       "      <th>3</th>\n",
       "      <td>36</td>\n",
       "      <td>F</td>\n",
       "      <td>f</td>\n",
       "      <td>f</td>\n",
       "      <td>f</td>\n",
       "      <td>f</td>\n",
       "      <td>f</td>\n",
       "      <td>f</td>\n",
       "      <td>f</td>\n",
       "      <td>f</td>\n",
       "      <td>...</td>\n",
       "      <td>NaN</td>\n",
       "      <td>f</td>\n",
       "      <td>NaN</td>\n",
       "      <td>f</td>\n",
       "      <td>NaN</td>\n",
       "      <td>t</td>\n",
       "      <td>26.0</td>\n",
       "      <td>other</td>\n",
       "      <td>-</td>\n",
       "      <td>840803046</td>\n",
       "    </tr>\n",
       "    <tr>\n",
       "      <th>4</th>\n",
       "      <td>32</td>\n",
       "      <td>F</td>\n",
       "      <td>f</td>\n",
       "      <td>f</td>\n",
       "      <td>f</td>\n",
       "      <td>f</td>\n",
       "      <td>f</td>\n",
       "      <td>f</td>\n",
       "      <td>f</td>\n",
       "      <td>f</td>\n",
       "      <td>...</td>\n",
       "      <td>NaN</td>\n",
       "      <td>f</td>\n",
       "      <td>NaN</td>\n",
       "      <td>f</td>\n",
       "      <td>NaN</td>\n",
       "      <td>t</td>\n",
       "      <td>36.0</td>\n",
       "      <td>other</td>\n",
       "      <td>S</td>\n",
       "      <td>840803047</td>\n",
       "    </tr>\n",
       "  </tbody>\n",
       "</table>\n",
       "<p>5 rows × 31 columns</p>\n",
       "</div>"
      ],
      "text/plain": [
       "   age sex on_thyroxine query_on_thyroxine on_antithyroid_meds sick pregnant  \\\n",
       "0   29   F            f                  f                   f    f        f   \n",
       "1   29   F            f                  f                   f    f        f   \n",
       "2   41   F            f                  f                   f    f        f   \n",
       "3   36   F            f                  f                   f    f        f   \n",
       "4   32   F            f                  f                   f    f        f   \n",
       "\n",
       "  thyroid_surgery I131_treatment query_hypothyroid  ...    TT4 T4U_measured  \\\n",
       "0               f              f                 t  ...    NaN            f   \n",
       "1               f              f                 f  ...  128.0            f   \n",
       "2               f              f                 f  ...    NaN            f   \n",
       "3               f              f                 f  ...    NaN            f   \n",
       "4               f              f                 f  ...    NaN            f   \n",
       "\n",
       "  T4U FTI_measured FTI TBG_measured   TBG  referral_source target  patient_id  \n",
       "0 NaN            f NaN            f   NaN            other      -   840801013  \n",
       "1 NaN            f NaN            f   NaN            other      -   840801014  \n",
       "2 NaN            f NaN            t  11.0            other      -   840801042  \n",
       "3 NaN            f NaN            t  26.0            other      -   840803046  \n",
       "4 NaN            f NaN            t  36.0            other      S   840803047  \n",
       "\n",
       "[5 rows x 31 columns]"
      ]
     },
     "execution_count": 5,
     "metadata": {},
     "output_type": "execute_result"
    }
   ],
   "source": [
    "df.head()"
   ]
  },
  {
   "cell_type": "code",
   "execution_count": 6,
   "id": "3c402fd1-7342-4033-970d-0a7f6addece3",
   "metadata": {},
   "outputs": [
    {
     "name": "stdout",
     "output_type": "stream",
     "text": [
      "<class 'pandas.core.frame.DataFrame'>\n",
      "RangeIndex: 9172 entries, 0 to 9171\n",
      "Data columns (total 31 columns):\n",
      " #   Column               Non-Null Count  Dtype  \n",
      "---  ------               --------------  -----  \n",
      " 0   age                  9172 non-null   int64  \n",
      " 1   sex                  8865 non-null   object \n",
      " 2   on_thyroxine         9172 non-null   object \n",
      " 3   query_on_thyroxine   9172 non-null   object \n",
      " 4   on_antithyroid_meds  9172 non-null   object \n",
      " 5   sick                 9172 non-null   object \n",
      " 6   pregnant             9172 non-null   object \n",
      " 7   thyroid_surgery      9172 non-null   object \n",
      " 8   I131_treatment       9172 non-null   object \n",
      " 9   query_hypothyroid    9172 non-null   object \n",
      " 10  query_hyperthyroid   9172 non-null   object \n",
      " 11  lithium              9172 non-null   object \n",
      " 12  goitre               9172 non-null   object \n",
      " 13  tumor                9172 non-null   object \n",
      " 14  hypopituitary        9172 non-null   object \n",
      " 15  psych                9172 non-null   object \n",
      " 16  TSH_measured         9172 non-null   object \n",
      " 17  TSH                  8330 non-null   float64\n",
      " 18  T3_measured          9172 non-null   object \n",
      " 19  T3                   6568 non-null   float64\n",
      " 20  TT4_measured         9172 non-null   object \n",
      " 21  TT4                  8730 non-null   float64\n",
      " 22  T4U_measured         9172 non-null   object \n",
      " 23  T4U                  8363 non-null   float64\n",
      " 24  FTI_measured         9172 non-null   object \n",
      " 25  FTI                  8370 non-null   float64\n",
      " 26  TBG_measured         9172 non-null   object \n",
      " 27  TBG                  349 non-null    float64\n",
      " 28  referral_source      9172 non-null   object \n",
      " 29  target               9172 non-null   object \n",
      " 30  patient_id           9172 non-null   int64  \n",
      "dtypes: float64(6), int64(2), object(23)\n",
      "memory usage: 2.2+ MB\n"
     ]
    }
   ],
   "source": [
    "df.info()"
   ]
  },
  {
   "cell_type": "code",
   "execution_count": 7,
   "id": "1f93d079-a5dc-4911-bf4a-35546b50a502",
   "metadata": {},
   "outputs": [
    {
     "data": {
      "text/plain": [
       "(9172, 31)"
      ]
     },
     "execution_count": 7,
     "metadata": {},
     "output_type": "execute_result"
    }
   ],
   "source": [
    "df.shape"
   ]
  },
  {
   "cell_type": "code",
   "execution_count": 8,
   "id": "3ea69c4c-cfc4-4e66-a27e-f1e8d3fc24aa",
   "metadata": {},
   "outputs": [
    {
     "data": {
      "text/html": [
       "<div>\n",
       "<style scoped>\n",
       "    .dataframe tbody tr th:only-of-type {\n",
       "        vertical-align: middle;\n",
       "    }\n",
       "\n",
       "    .dataframe tbody tr th {\n",
       "        vertical-align: top;\n",
       "    }\n",
       "\n",
       "    .dataframe thead th {\n",
       "        text-align: right;\n",
       "    }\n",
       "</style>\n",
       "<table border=\"1\" class=\"dataframe\">\n",
       "  <thead>\n",
       "    <tr style=\"text-align: right;\">\n",
       "      <th></th>\n",
       "      <th>count</th>\n",
       "      <th>mean</th>\n",
       "      <th>std</th>\n",
       "      <th>min</th>\n",
       "      <th>25%</th>\n",
       "      <th>50%</th>\n",
       "      <th>75%</th>\n",
       "      <th>max</th>\n",
       "    </tr>\n",
       "  </thead>\n",
       "  <tbody>\n",
       "    <tr>\n",
       "      <th>age</th>\n",
       "      <td>9172.0</td>\n",
       "      <td>7.355582e+01</td>\n",
       "      <td>1.183977e+03</td>\n",
       "      <td>1.000000e+00</td>\n",
       "      <td>3.700000e+01</td>\n",
       "      <td>5.500000e+01</td>\n",
       "      <td>6.800000e+01</td>\n",
       "      <td>6.552600e+04</td>\n",
       "    </tr>\n",
       "    <tr>\n",
       "      <th>TSH</th>\n",
       "      <td>8330.0</td>\n",
       "      <td>5.218403e+00</td>\n",
       "      <td>2.418401e+01</td>\n",
       "      <td>5.000000e-03</td>\n",
       "      <td>4.600000e-01</td>\n",
       "      <td>1.400000e+00</td>\n",
       "      <td>2.700000e+00</td>\n",
       "      <td>5.300000e+02</td>\n",
       "    </tr>\n",
       "    <tr>\n",
       "      <th>T3</th>\n",
       "      <td>6568.0</td>\n",
       "      <td>1.970629e+00</td>\n",
       "      <td>8.875788e-01</td>\n",
       "      <td>5.000000e-02</td>\n",
       "      <td>1.500000e+00</td>\n",
       "      <td>1.900000e+00</td>\n",
       "      <td>2.300000e+00</td>\n",
       "      <td>1.800000e+01</td>\n",
       "    </tr>\n",
       "    <tr>\n",
       "      <th>TT4</th>\n",
       "      <td>8730.0</td>\n",
       "      <td>1.087003e+02</td>\n",
       "      <td>3.752267e+01</td>\n",
       "      <td>2.000000e+00</td>\n",
       "      <td>8.700000e+01</td>\n",
       "      <td>1.040000e+02</td>\n",
       "      <td>1.260000e+02</td>\n",
       "      <td>6.000000e+02</td>\n",
       "    </tr>\n",
       "    <tr>\n",
       "      <th>T4U</th>\n",
       "      <td>8363.0</td>\n",
       "      <td>9.760557e-01</td>\n",
       "      <td>2.003604e-01</td>\n",
       "      <td>1.700000e-01</td>\n",
       "      <td>8.600000e-01</td>\n",
       "      <td>9.600000e-01</td>\n",
       "      <td>1.065000e+00</td>\n",
       "      <td>2.330000e+00</td>\n",
       "    </tr>\n",
       "    <tr>\n",
       "      <th>FTI</th>\n",
       "      <td>8370.0</td>\n",
       "      <td>1.136407e+02</td>\n",
       "      <td>4.155165e+01</td>\n",
       "      <td>1.400000e+00</td>\n",
       "      <td>9.300000e+01</td>\n",
       "      <td>1.090000e+02</td>\n",
       "      <td>1.280000e+02</td>\n",
       "      <td>8.810000e+02</td>\n",
       "    </tr>\n",
       "    <tr>\n",
       "      <th>TBG</th>\n",
       "      <td>349.0</td>\n",
       "      <td>2.987006e+01</td>\n",
       "      <td>2.108050e+01</td>\n",
       "      <td>1.000000e-01</td>\n",
       "      <td>2.100000e+01</td>\n",
       "      <td>2.600000e+01</td>\n",
       "      <td>3.100000e+01</td>\n",
       "      <td>2.000000e+02</td>\n",
       "    </tr>\n",
       "    <tr>\n",
       "      <th>patient_id</th>\n",
       "      <td>9172.0</td>\n",
       "      <td>8.529473e+08</td>\n",
       "      <td>7.581969e+06</td>\n",
       "      <td>8.408010e+08</td>\n",
       "      <td>8.504090e+08</td>\n",
       "      <td>8.510040e+08</td>\n",
       "      <td>8.607110e+08</td>\n",
       "      <td>8.701190e+08</td>\n",
       "    </tr>\n",
       "  </tbody>\n",
       "</table>\n",
       "</div>"
      ],
      "text/plain": [
       "             count          mean           std           min           25%  \\\n",
       "age         9172.0  7.355582e+01  1.183977e+03  1.000000e+00  3.700000e+01   \n",
       "TSH         8330.0  5.218403e+00  2.418401e+01  5.000000e-03  4.600000e-01   \n",
       "T3          6568.0  1.970629e+00  8.875788e-01  5.000000e-02  1.500000e+00   \n",
       "TT4         8730.0  1.087003e+02  3.752267e+01  2.000000e+00  8.700000e+01   \n",
       "T4U         8363.0  9.760557e-01  2.003604e-01  1.700000e-01  8.600000e-01   \n",
       "FTI         8370.0  1.136407e+02  4.155165e+01  1.400000e+00  9.300000e+01   \n",
       "TBG          349.0  2.987006e+01  2.108050e+01  1.000000e-01  2.100000e+01   \n",
       "patient_id  9172.0  8.529473e+08  7.581969e+06  8.408010e+08  8.504090e+08   \n",
       "\n",
       "                     50%           75%           max  \n",
       "age         5.500000e+01  6.800000e+01  6.552600e+04  \n",
       "TSH         1.400000e+00  2.700000e+00  5.300000e+02  \n",
       "T3          1.900000e+00  2.300000e+00  1.800000e+01  \n",
       "TT4         1.040000e+02  1.260000e+02  6.000000e+02  \n",
       "T4U         9.600000e-01  1.065000e+00  2.330000e+00  \n",
       "FTI         1.090000e+02  1.280000e+02  8.810000e+02  \n",
       "TBG         2.600000e+01  3.100000e+01  2.000000e+02  \n",
       "patient_id  8.510040e+08  8.607110e+08  8.701190e+08  "
      ]
     },
     "execution_count": 8,
     "metadata": {},
     "output_type": "execute_result"
    }
   ],
   "source": [
    "df.describe().T"
   ]
  },
  {
   "cell_type": "markdown",
   "id": "9eafd9f9-80f6-43bf-b086-841d1f3a294f",
   "metadata": {},
   "source": [
    "## 2.Data Cleaning"
   ]
  },
  {
   "cell_type": "markdown",
   "id": "1dea684f-c7ab-4ce8-87b7-8ec8546af2c9",
   "metadata": {},
   "source": [
    "### Duplicates"
   ]
  },
  {
   "cell_type": "code",
   "execution_count": 11,
   "id": "45d1f502-b993-45bb-b79a-f84a0bea8ac7",
   "metadata": {},
   "outputs": [
    {
     "data": {
      "text/plain": [
       "0"
      ]
     },
     "execution_count": 11,
     "metadata": {},
     "output_type": "execute_result"
    }
   ],
   "source": [
    "df.duplicated().sum()"
   ]
  },
  {
   "cell_type": "markdown",
   "id": "fa7d9cf2-fee4-4684-95e4-f20410a5d236",
   "metadata": {},
   "source": [
    "### Feature Cleaning"
   ]
  },
  {
   "cell_type": "markdown",
   "id": "1e387ff4-009b-4e0b-8912-05adb9186942",
   "metadata": {},
   "source": [
    "`TSH_measured`  \n",
    "`T3_measured`  \n",
    "`TT4_measured`  \n",
    "`T4U_measured`  \n",
    "`FTI_measured`  \n",
    "`TBG_measured`  \n",
    "<span style=\"color:blue; font-size:20px\">__Columns checks patient had measured or not.__</span>\n"
   ]
  },
  {
   "cell_type": "code",
   "execution_count": 14,
   "id": "88327b1e-df42-46a7-acb3-d233ae6032f5",
   "metadata": {},
   "outputs": [],
   "source": [
    "df.drop(['TSH_measured','T3_measured','TT4_measured','T4U_measured','FTI_measured','TBG_measured','referral_source','patient_id'],axis=1 ,inplace=True)"
   ]
  },
  {
   "cell_type": "code",
   "execution_count": 15,
   "id": "3a219434-3fde-4c98-8fe1-26fc9e05cbff",
   "metadata": {},
   "outputs": [
    {
     "data": {
      "image/png": "[encoded data removed]",
      "text/plain": [
       "<Figure size 2000x500 with 1 Axes>"
      ]
     },
     "metadata": {},
     "output_type": "display_data"
    }
   ],
   "source": [
    "sns.set_style('whitegrid')\n",
    "target_values = df['target'].value_counts()\n",
    "plt.figure(figsize=(20, 5))\n",
    "sns.barplot(data=pd.DataFrame(target_values), x= target_values.keys(), hue=target_values.keys(), y=target_values.values, palette=\"muted\", legend=False)\n",
    "plt.show()"
   ]
  },
  {
   "cell_type": "code",
   "execution_count": 16,
   "id": "1cc3af62-80b4-4b34-acbb-2b62840da74f",
   "metadata": {},
   "outputs": [],
   "source": [
    "mapping = {\n",
    "    # Negative class\n",
    "    '-': 'negative',\n",
    "\n",
    "    # Hypothyroid class\n",
    "    'A': 'hypothyroid',\n",
    "    'B': 'hypothyroid',\n",
    "    'C': 'hypothyroid',\n",
    "    'D': 'hypothyroid',\n",
    "    'E': 'hypothyroid',\n",
    "    'F': 'hypothyroid',\n",
    "    'AK': 'hypothyroid',\n",
    "    'FK': 'hypothyroid',\n",
    "    'MK': 'hypothyroid',\n",
    "    'C|I': 'hypothyroid',\n",
    "    'D|R': 'hypothyroid',\n",
    "\n",
    "    # Hyperthyroid class\n",
    "    'G': 'hyperthyroid',\n",
    "    'H': 'hyperthyroid',\n",
    "    'I': 'hyperthyroid',\n",
    "    'J': 'hyperthyroid',\n",
    "    'K': 'hyperthyroid',\n",
    "    'L': 'hyperthyroid',\n",
    "    'M': 'hyperthyroid',\n",
    "    'N': 'hyperthyroid',\n",
    "    'O': 'hyperthyroid',\n",
    "    'P': 'hyperthyroid',\n",
    "    'GI': 'hyperthyroid',\n",
    "    'GK': 'hyperthyroid',\n",
    "    'KJ': 'hyperthyroid',\n",
    "    'GKJ': 'hyperthyroid',\n",
    "    'MI': 'hyperthyroid',\n",
    "    'OI': 'hyperthyroid',\n",
    "    'H|K': 'hyperthyroid',\n",
    "    'LJ': 'hyperthyroid',\n",
    "    'S': 'hyperthyroid',\n",
    "    'R': 'hyperthyroid',\n",
    "    'Q': 'hyperthyroid'\n",
    "}"
   ]
  },
  {
   "cell_type": "code",
   "execution_count": 17,
   "id": "03644809-305f-48bf-8a00-9c903089fa92",
   "metadata": {},
   "outputs": [],
   "source": [
    "df['target'] = df['target'].map(mapping)"
   ]
  },
  {
   "cell_type": "code",
   "execution_count": 18,
   "id": "8cded329-2246-4988-b586-386e0fc86bd7",
   "metadata": {},
   "outputs": [
    {
     "data": {
      "text/plain": [
       "0           negative\n",
       "1           negative\n",
       "2           negative\n",
       "3           negative\n",
       "4       hyperthyroid\n",
       "            ...     \n",
       "9167        negative\n",
       "9168        negative\n",
       "9169    hyperthyroid\n",
       "9170        negative\n",
       "9171        negative\n",
       "Name: target, Length: 9172, dtype: object"
      ]
     },
     "execution_count": 18,
     "metadata": {},
     "output_type": "execute_result"
    }
   ],
   "source": [
    "df['target']"
   ]
  },
  {
   "cell_type": "code",
   "execution_count": 19,
   "id": "67c94003-04ad-4157-8d39-7a1db73892d8",
   "metadata": {},
   "outputs": [
    {
     "data": {
      "text/html": [
       "<div>\n",
       "<style scoped>\n",
       "    .dataframe tbody tr th:only-of-type {\n",
       "        vertical-align: middle;\n",
       "    }\n",
       "\n",
       "    .dataframe tbody tr th {\n",
       "        vertical-align: top;\n",
       "    }\n",
       "\n",
       "    .dataframe thead th {\n",
       "        text-align: right;\n",
       "    }\n",
       "</style>\n",
       "<table border=\"1\" class=\"dataframe\">\n",
       "  <thead>\n",
       "    <tr style=\"text-align: right;\">\n",
       "      <th></th>\n",
       "      <th>count</th>\n",
       "    </tr>\n",
       "    <tr>\n",
       "      <th>target</th>\n",
       "      <th></th>\n",
       "    </tr>\n",
       "  </thead>\n",
       "  <tbody>\n",
       "    <tr>\n",
       "      <th>negative</th>\n",
       "      <td>6771</td>\n",
       "    </tr>\n",
       "    <tr>\n",
       "      <th>hyperthyroid</th>\n",
       "      <td>1904</td>\n",
       "    </tr>\n",
       "    <tr>\n",
       "      <th>hypothyroid</th>\n",
       "      <td>497</td>\n",
       "    </tr>\n",
       "  </tbody>\n",
       "</table>\n",
       "</div>"
      ],
      "text/plain": [
       "              count\n",
       "target             \n",
       "negative       6771\n",
       "hyperthyroid   1904\n",
       "hypothyroid     497"
      ]
     },
     "execution_count": 19,
     "metadata": {},
     "output_type": "execute_result"
    }
   ],
   "source": [
    "pd.DataFrame(df['target'].value_counts())"
   ]
  },
  {
   "cell_type": "code",
   "execution_count": 20,
   "id": "2ce05455-f8d5-40e3-88cb-f8d4492916be",
   "metadata": {},
   "outputs": [
    {
     "data": {
      "image/png": "[encoded data removed]",
      "text/plain": [
       "<Figure size 640x480 with 1 Axes>"
      ]
     },
     "metadata": {},
     "output_type": "display_data"
    }
   ],
   "source": [
    "fig, ax = plt.subplots()\n",
    "ax.pie(df['target'].value_counts(), labels= df['target'].value_counts().keys(), hatch=['|', '-', 'X'], startangle=50)\n",
    "plt.show()"
   ]
  },
  {
   "cell_type": "markdown",
   "id": "f8c51b5a-8f7f-48c4-b416-983b424992a4",
   "metadata": {},
   "source": [
    "### Outliers"
   ]
  },
  {
   "cell_type": "code",
   "execution_count": 22,
   "id": "93be57f7-5d54-4ff7-a8c0-9908d6582074",
   "metadata": {},
   "outputs": [
    {
     "data": {
      "text/html": [
       "<div>\n",
       "<style scoped>\n",
       "    .dataframe tbody tr th:only-of-type {\n",
       "        vertical-align: middle;\n",
       "    }\n",
       "\n",
       "    .dataframe tbody tr th {\n",
       "        vertical-align: top;\n",
       "    }\n",
       "\n",
       "    .dataframe thead th {\n",
       "        text-align: right;\n",
       "    }\n",
       "</style>\n",
       "<table border=\"1\" class=\"dataframe\">\n",
       "  <thead>\n",
       "    <tr style=\"text-align: right;\">\n",
       "      <th></th>\n",
       "      <th>age</th>\n",
       "    </tr>\n",
       "  </thead>\n",
       "  <tbody>\n",
       "    <tr>\n",
       "      <th>8105</th>\n",
       "      <td>65526</td>\n",
       "    </tr>\n",
       "    <tr>\n",
       "      <th>6392</th>\n",
       "      <td>65512</td>\n",
       "    </tr>\n",
       "    <tr>\n",
       "      <th>5710</th>\n",
       "      <td>65511</td>\n",
       "    </tr>\n",
       "    <tr>\n",
       "      <th>2976</th>\n",
       "      <td>455</td>\n",
       "    </tr>\n",
       "    <tr>\n",
       "      <th>790</th>\n",
       "      <td>97</td>\n",
       "    </tr>\n",
       "    <tr>\n",
       "      <th>7356</th>\n",
       "      <td>97</td>\n",
       "    </tr>\n",
       "    <tr>\n",
       "      <th>7355</th>\n",
       "      <td>97</td>\n",
       "    </tr>\n",
       "  </tbody>\n",
       "</table>\n",
       "</div>"
      ],
      "text/plain": [
       "        age\n",
       "8105  65526\n",
       "6392  65512\n",
       "5710  65511\n",
       "2976    455\n",
       "790      97\n",
       "7356     97\n",
       "7355     97"
      ]
     },
     "execution_count": 22,
     "metadata": {},
     "output_type": "execute_result"
    }
   ],
   "source": [
    "pd.DataFrame(df['age'].sort_values(ascending=False).head(7))"
   ]
  },
  {
   "cell_type": "code",
   "execution_count": 23,
   "id": "a621edac-4579-4221-b6c9-dcd021badd18",
   "metadata": {},
   "outputs": [],
   "source": [
    "df = df[df['age'] < 100]"
   ]
  },
  {
   "cell_type": "markdown",
   "id": "2213d84a-ec1f-4f38-afa4-c6f50bfccfe0",
   "metadata": {},
   "source": [
    "### Handling Missing Values"
   ]
  },
  {
   "cell_type": "code",
   "execution_count": 25,
   "id": "96d4b9be-3df4-489b-b27e-1e795ab1c824",
   "metadata": {},
   "outputs": [
    {
     "data": {
      "text/html": [
       "<div>\n",
       "<style scoped>\n",
       "    .dataframe tbody tr th:only-of-type {\n",
       "        vertical-align: middle;\n",
       "    }\n",
       "\n",
       "    .dataframe tbody tr th {\n",
       "        vertical-align: top;\n",
       "    }\n",
       "\n",
       "    .dataframe thead th {\n",
       "        text-align: right;\n",
       "    }\n",
       "</style>\n",
       "<table border=\"1\" class=\"dataframe\">\n",
       "  <thead>\n",
       "    <tr style=\"text-align: right;\">\n",
       "      <th></th>\n",
       "      <th>missing_count</th>\n",
       "      <th>missing_percentage</th>\n",
       "    </tr>\n",
       "  </thead>\n",
       "  <tbody>\n",
       "    <tr>\n",
       "      <th>sex</th>\n",
       "      <td>307</td>\n",
       "      <td>3.35%</td>\n",
       "    </tr>\n",
       "    <tr>\n",
       "      <th>TSH</th>\n",
       "      <td>842</td>\n",
       "      <td>9.18%</td>\n",
       "    </tr>\n",
       "    <tr>\n",
       "      <th>T3</th>\n",
       "      <td>2603</td>\n",
       "      <td>28.39%</td>\n",
       "    </tr>\n",
       "    <tr>\n",
       "      <th>TT4</th>\n",
       "      <td>442</td>\n",
       "      <td>4.82%</td>\n",
       "    </tr>\n",
       "    <tr>\n",
       "      <th>T4U</th>\n",
       "      <td>809</td>\n",
       "      <td>8.82%</td>\n",
       "    </tr>\n",
       "    <tr>\n",
       "      <th>FTI</th>\n",
       "      <td>802</td>\n",
       "      <td>8.75%</td>\n",
       "    </tr>\n",
       "    <tr>\n",
       "      <th>TBG</th>\n",
       "      <td>8819</td>\n",
       "      <td>96.19%</td>\n",
       "    </tr>\n",
       "  </tbody>\n",
       "</table>\n",
       "</div>"
      ],
      "text/plain": [
       "     missing_count missing_percentage\n",
       "sex            307              3.35%\n",
       "TSH            842              9.18%\n",
       "T3            2603             28.39%\n",
       "TT4            442              4.82%\n",
       "T4U            809              8.82%\n",
       "FTI            802              8.75%\n",
       "TBG           8819             96.19%"
      ]
     },
     "execution_count": 25,
     "metadata": {},
     "output_type": "execute_result"
    }
   ],
   "source": [
    "missing = df.isna().sum()\n",
    "missing = missing[missing > 0]\n",
    "percentage = (missing / len(df)) * 100\n",
    "formatted_percentage = percentage.round(2).astype('str') + '%'\n",
    "\n",
    "pd.DataFrame({\n",
    "    'missing_count': missing,\n",
    "    'missing_percentage': formatted_percentage\n",
    "})"
   ]
  },
  {
   "cell_type": "code",
   "execution_count": 26,
   "id": "1da0afdb-f503-455c-a275-10b03c724f1c",
   "metadata": {},
   "outputs": [],
   "source": [
    "df.drop('TBG', axis=1, inplace=True)"
   ]
  },
  {
   "cell_type": "code",
   "execution_count": 27,
   "id": "b086dac4-9be1-4eb8-b962-6f50071c9a09",
   "metadata": {},
   "outputs": [],
   "source": [
    "sex_to_num = {\n",
    "    'F': 0,\n",
    "    'M': 1\n",
    "}"
   ]
  },
  {
   "cell_type": "code",
   "execution_count": 28,
   "id": "1535f3ea-6d9d-4702-8d69-0470aed76fe7",
   "metadata": {},
   "outputs": [],
   "source": [
    "df['sex'] = df['sex'].map(sex_to_num)"
   ]
  },
  {
   "attachments": {},
   "cell_type": "markdown",
   "id": "5ae53d17-12f4-4558-bfdd-b7be2fdbe802",
   "metadata": {},
   "source": [
    "## Model Training"
   ]
  },
  {
   "cell_type": "code",
   "execution_count": 30,
   "id": "84c02717-91e7-49ee-b56c-3dcd68d89ca1",
   "metadata": {},
   "outputs": [],
   "source": [
    "from sklearn.model_selection import train_test_split, GridSearchCV\n",
    "from sklearn.pipeline import Pipeline\n",
    "from sklearn.compose import ColumnTransformer\n",
    "from sklearn.preprocessing import StandardScaler, OneHotEncoder\n",
    "from sklearn.impute import SimpleImputer\n",
    "from sklearn.tree import DecisionTreeClassifier\n",
    "from sklearn.linear_model import LogisticRegression\n",
    "from sklearn.metrics import classification_report, confusion_matrix, accuracy_score, f1_score, roc_curve, auc, precision_score, recall_score, roc_auc_score, ConfusionMatrixDisplay"
   ]
  },
  {
   "cell_type": "code",
   "execution_count": 31,
   "id": "2abf2c8b-e502-4936-8a84-99adab3bea79",
   "metadata": {},
   "outputs": [],
   "source": [
    "X = df.drop(columns=['target'])\n",
    "y = df['target']"
   ]
  },
  {
   "cell_type": "code",
   "execution_count": 32,
   "id": "f7102856-2be6-4671-998e-ab6a613cd063",
   "metadata": {},
   "outputs": [],
   "source": [
    "X_train, X_test, y_train, y_test = train_test_split(X, y, test_size=0.2, stratify=y, random_state=42)"
   ]
  },
  {
   "cell_type": "markdown",
   "id": "7b871150-5f0d-4028-815e-3aedf71a288a",
   "metadata": {},
   "source": [
    "### Column types"
   ]
  },
  {
   "cell_type": "code",
   "execution_count": 34,
   "id": "c772fd32-8b36-4ae6-ae8b-88d907a3daa8",
   "metadata": {},
   "outputs": [],
   "source": [
    "num_cols = X.select_dtypes(include=['float64', 'int64']).columns.tolist()\n",
    "cat_cols = X.select_dtypes(include=['object']).columns.tolist()"
   ]
  },
  {
   "cell_type": "markdown",
   "id": "a62c1036-ce95-4013-80d9-f5df19d29136",
   "metadata": {},
   "source": [
    "### Preprocessing pipelines"
   ]
  },
  {
   "cell_type": "code",
   "execution_count": 36,
   "id": "8444daf3-f731-4a5f-889c-049cac3dceac",
   "metadata": {},
   "outputs": [],
   "source": [
    "num_pipe = Pipeline([\n",
    "    ('imputer', SimpleImputer(strategy='mean')),\n",
    "    ('scaler', StandardScaler())\n",
    "])\n",
    "\n",
    "cat_pipe = Pipeline([\n",
    "    ('imputer', SimpleImputer(strategy='most_frequent')),\n",
    "    ('encoder', OneHotEncoder(handle_unknown='ignore'))\n",
    "])"
   ]
  },
  {
   "cell_type": "code",
   "execution_count": 37,
   "id": "e60d7c7f-54ab-4d8c-9e44-4db803168e1f",
   "metadata": {},
   "outputs": [],
   "source": [
    "preprocessor = ColumnTransformer([\n",
    "    ('num', num_pipe, num_cols),\n",
    "    ('cat', cat_pipe, cat_cols)\n",
    "])"
   ]
  },
  {
   "cell_type": "markdown",
   "id": "2e64fcee-3a6f-4cdb-b563-f4af9828dc01",
   "metadata": {},
   "source": [
    "### Defining models"
   ]
  },
  {
   "cell_type": "code",
   "execution_count": 39,
   "id": "ac465da0-2f7f-4314-bb6e-55f95ba8e7d5",
   "metadata": {},
   "outputs": [],
   "source": [
    "models = {\n",
    "    'Decision Tree': DecisionTreeClassifier(random_state=42),\n",
    "    'Logistic Regression': LogisticRegression(max_iter=500, random_state=42)\n",
    "}"
   ]
  },
  {
   "cell_type": "markdown",
   "id": "c68cacc9-c994-41bb-b6a0-0fdad722f074",
   "metadata": {},
   "source": [
    "### Complete pipelines"
   ]
  },
  {
   "cell_type": "code",
   "execution_count": 41,
   "id": "010a820c-492f-4fd3-a6e3-0d9e7554b371",
   "metadata": {},
   "outputs": [],
   "source": [
    "pipelines = {}\n",
    "for name, model in models.items():\n",
    "    pipelines[name] = Pipeline([\n",
    "        ('preprocessor', preprocessor),\n",
    "        ('classifier', model)\n",
    "    ])"
   ]
  },
  {
   "cell_type": "markdown",
   "id": "ec1cfdb3-e361-41ee-8cee-74a38f41b1ee",
   "metadata": {},
   "source": [
    "### Hyperparameter tuning"
   ]
  },
  {
   "cell_type": "code",
   "execution_count": 43,
   "id": "f8b44af1-e0d1-4fdf-ba56-27558450099d",
   "metadata": {},
   "outputs": [],
   "source": [
    "param_grids = {\n",
    "    'Decision Tree': {\n",
    "        'classifier__max_depth': [3, 5, 10, None],\n",
    "        'classifier__min_samples_split': [2, 5, 10]\n",
    "    },\n",
    "    'Logistic Regression': {\n",
    "        'classifier__C': [0.01, 0.1, 1, 10],\n",
    "        'classifier__penalty': ['l2'],\n",
    "        'classifier__solver': ['lbfgs']  # optional but recommended for 'l2'\n",
    "    }\n",
    "}"
   ]
  },
  {
   "cell_type": "markdown",
   "id": "a33860c2-0f04-4ad4-a677-06240116a29f",
   "metadata": {},
   "source": [
    "### Perform grid search for each model"
   ]
  },
  {
   "cell_type": "code",
   "execution_count": 45,
   "id": "88a5dd64-8ccc-4138-ade0-157b68a279fc",
   "metadata": {},
   "outputs": [],
   "source": [
    "grid_results = {}\n",
    "for name in models.keys():\n",
    "    grid = GridSearchCV(\n",
    "        pipelines[name],\n",
    "        param_grids[name],\n",
    "        cv=5,\n",
    "        scoring='recall_macro',\n",
    "        n_jobs=-1\n",
    "    )\n",
    "    grid.fit(X_train, y_train)\n",
    "    grid_results[name] = grid"
   ]
  },
  {
   "cell_type": "markdown",
   "id": "75f9553a-58b7-47b6-92ab-1ce48b715193",
   "metadata": {},
   "source": [
    "### Evaluation function"
   ]
  },
  {
   "cell_type": "code",
   "execution_count": 47,
   "id": "a179d92d-18f2-40c7-a964-7906cb945c6e",
   "metadata": {},
   "outputs": [],
   "source": [
    "def evaluate_model(model, X_test, y_test, model_name):\n",
    "    y_pred = model.predict(X_test)\n",
    "    y_pred_proba = model.predict_proba(X_test)\n",
    "    \n",
    "    results = {\n",
    "        'Model': model_name,\n",
    "        'Accuracy': accuracy_score(y_test, y_pred),\n",
    "        'Precision': precision_score(y_test, y_pred, average='macro'),\n",
    "        'Recall': recall_score(y_test, y_pred, average='macro'),\n",
    "        'F1-Score': f1_score(y_test, y_pred, average='macro'),\n",
    "        'ROC-AUC': roc_auc_score(y_test, y_pred_proba, multi_class='ovr')\n",
    "    } \n",
    "    return results"
   ]
  },
  {
   "cell_type": "markdown",
   "id": "eabad706-2ed6-4f5a-a559-1f96f1da8004",
   "metadata": {},
   "source": [
    "### Collect results for all models"
   ]
  },
  {
   "cell_type": "code",
   "execution_count": 49,
   "id": "7c085875-19e1-49c4-871b-389f2c16c4fa",
   "metadata": {},
   "outputs": [],
   "source": [
    "evaluation_results = []\n",
    "for name, grid in grid_results.items():\n",
    "    best_model = grid.best_estimator_\n",
    "    results = evaluate_model(best_model, X_test, y_test, name)\n",
    "    evaluation_results.append(results)"
   ]
  },
  {
   "cell_type": "markdown",
   "id": "5f36c7bc-f472-43b3-aa8e-823f0a1b9b1b",
   "metadata": {},
   "source": [
    "### Comparison DataFrame"
   ]
  },
  {
   "cell_type": "code",
   "execution_count": 51,
   "id": "62997ec8-e81f-40df-8477-6511aa076d42",
   "metadata": {},
   "outputs": [
    {
     "data": {
      "text/html": [
       "<div>\n",
       "<style scoped>\n",
       "    .dataframe tbody tr th:only-of-type {\n",
       "        vertical-align: middle;\n",
       "    }\n",
       "\n",
       "    .dataframe tbody tr th {\n",
       "        vertical-align: top;\n",
       "    }\n",
       "\n",
       "    .dataframe thead th {\n",
       "        text-align: right;\n",
       "    }\n",
       "</style>\n",
       "<table border=\"1\" class=\"dataframe\">\n",
       "  <thead>\n",
       "    <tr style=\"text-align: right;\">\n",
       "      <th></th>\n",
       "      <th>Accuracy</th>\n",
       "      <th>Precision</th>\n",
       "      <th>Recall</th>\n",
       "      <th>F1-Score</th>\n",
       "      <th>ROC-AUC</th>\n",
       "    </tr>\n",
       "    <tr>\n",
       "      <th>Model</th>\n",
       "      <th></th>\n",
       "      <th></th>\n",
       "      <th></th>\n",
       "      <th></th>\n",
       "      <th></th>\n",
       "    </tr>\n",
       "  </thead>\n",
       "  <tbody>\n",
       "    <tr>\n",
       "      <th>Decision Tree</th>\n",
       "      <td>94.0%</td>\n",
       "      <td>90.0%</td>\n",
       "      <td>92.0%</td>\n",
       "      <td>91.0%</td>\n",
       "      <td>95.0%</td>\n",
       "    </tr>\n",
       "    <tr>\n",
       "      <th>Logistic Regression</th>\n",
       "      <td>80.0%</td>\n",
       "      <td>76.0%</td>\n",
       "      <td>54.0%</td>\n",
       "      <td>59.0%</td>\n",
       "      <td>84.0%</td>\n",
       "    </tr>\n",
       "  </tbody>\n",
       "</table>\n",
       "</div>"
      ],
      "text/plain": [
       "                    Accuracy Precision Recall F1-Score ROC-AUC\n",
       "Model                                                         \n",
       "Decision Tree          94.0%     90.0%  92.0%    91.0%   95.0%\n",
       "Logistic Regression    80.0%     76.0%  54.0%    59.0%   84.0%"
      ]
     },
     "execution_count": 51,
     "metadata": {},
     "output_type": "execute_result"
    }
   ],
   "source": [
    "results_df = pd.DataFrame(evaluation_results)\n",
    "results_df = results_df.set_index('Model')\n",
    "results_df['Accuracy']  = (results_df['Accuracy'] * 100).round(0).astype('str')  + '%'\n",
    "results_df['Precision'] = (results_df['Precision'] * 100).round(0).astype('str') + '%'\n",
    "results_df['Recall']    = (results_df['Recall'] * 100).round(0).astype('str')    + '%'\n",
    "results_df['F1-Score']  = (results_df['F1-Score'] * 100).round(0).astype('str')  + '%'\n",
    "results_df['ROC-AUC']   = (results_df['ROC-AUC'] * 100).round(0).astype('str')   + '%'\n",
    "results_df"
   ]
  },
  {
   "cell_type": "code",
   "execution_count": 52,
   "id": "9245701e-2859-4620-8720-d7b74a265de8",
   "metadata": {},
   "outputs": [
    {
     "data": {
      "image/png": "[encoded data removed]",
      "text/plain": [
       "<Figure size 640x480 with 2 Axes>"
      ]
     },
     "metadata": {},
     "output_type": "display_data"
    },
    {
     "data": {
      "image/png": "[encoded data removed]",
      "text/plain": [
       "<Figure size 640x480 with 2 Axes>"
      ]
     },
     "metadata": {},
     "output_type": "display_data"
    }
   ],
   "source": [
    "for name, grid in grid_results.items():\n",
    "    best_model = grid.best_estimator_\n",
    "    y_pred = best_model.predict(X_test)\n",
    "\n",
    "    # Compute and plot confusion matrix\n",
    "    cm = confusion_matrix(y_test, y_pred)\n",
    "    disp = ConfusionMatrixDisplay(confusion_matrix=cm)\n",
    "    disp.plot(cmap='Blues')\n",
    "    plt.title(f\"Confusion Matrix - {name}\")\n",
    "    plt.grid(False)\n",
    "    plt.show()"
   ]
  }
 ],
 "metadata": {
  "kernelspec": {
   "display_name": "Python 3 (ipykernel)",
   "language": "python",
   "name": "python3"
  },
  "language_info": {
   "codemirror_mode": {
    "name": "ipython",
    "version": 3
   },
   "file_extension": ".py",
   "mimetype": "text/x-python",
   "name": "python",
   "nbconvert_exporter": "python",
   "pygments_lexer": "ipython3",
   "version": "3.12.4"
  }
 },
 "nbformat": 4,
 "nbformat_minor": 5
}
